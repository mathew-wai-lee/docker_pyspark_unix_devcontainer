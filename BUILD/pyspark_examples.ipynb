{
 "cells": [
  {
   "cell_type": "markdown",
   "metadata": {},
   "source": [
    "### Init"
   ]
  },
  {
   "cell_type": "code",
   "execution_count": null,
   "metadata": {},
   "outputs": [],
   "source": [
    "from pyspark.sql import SparkSession\n",
    "from pathlib import Path"
   ]
  },
  {
   "cell_type": "code",
   "execution_count": null,
   "metadata": {},
   "outputs": [],
   "source": [
    "# spark = SparkSession.builder \\\n",
    "#             .config(\"spark.driver.memory\", \"6g\") \\\n",
    "#             .config(\"spark.sql.adaptive.enabled\", \"True\")\\\n",
    "#             .master(\"local\").getOrCreate();\n",
    "\n",
    "# Spark session & context\n",
    "spark = SparkSession.builder.master(\"local[*]\").getOrCreate()\n",
    "sc = spark.sparkContext"
   ]
  },
  {
   "cell_type": "markdown",
   "metadata": {},
   "source": [
    "### Basic rdd example"
   ]
  },
  {
   "cell_type": "code",
   "execution_count": null,
   "metadata": {},
   "outputs": [],
   "source": [
    "# Sum of the first 100 whole numbers\n",
    "rdd = sc.parallelize(range(100 + 1))\n",
    "rdd.sum()\n",
    "# 5050"
   ]
  },
  {
   "cell_type": "markdown",
   "metadata": {},
   "source": [
    "### Join Example"
   ]
  },
  {
   "cell_type": "code",
   "execution_count": null,
   "metadata": {},
   "outputs": [],
   "source": [
    "# Create DataFrames\n",
    "data1 = [(\"Alice\", 1), (\"Bob\", 2), (\"Charlie\", 3)]\n",
    "data2 = [(\"Alice\", \"Engineer\"), (\"Bob\", \"Doctor\"), (\"David\", \"Lawyer\")]\n",
    "df1 = spark.createDataFrame(data1, [\"Name\", \"ID\"])\n",
    "df2 = spark.createDataFrame(data2, [\"Name\", \"Profession\"])\n",
    "\n",
    "# Join DataFrames\n",
    "joined_df = df1.join(df2, \"Name\")\n",
    "\n",
    "# Show the result\n",
    "joined_df.show()"
   ]
  },
  {
   "cell_type": "markdown",
   "metadata": {},
   "source": [
    "### Demo - shift data across executors over and over"
   ]
  },
  {
   "cell_type": "code",
   "execution_count": null,
   "metadata": {},
   "outputs": [],
   "source": [
    "# Dummy graph data representing nodes and their outgoing links\n",
    "links = spark.sparkContext.parallelize([\n",
    "    (\"A\", [\"B\", \"C\"]),\n",
    "    (\"B\", [\"C\"]),\n",
    "    (\"C\", [\"A\"]),\n",
    "    (\"D\", [\"A\", \"C\"])\n",
    "]).partitionBy(4)  # Partition the data into 4 partitions\n",
    "\n",
    "# Initialize ranks for each node\n",
    "ranks = links.map(lambda pair: (pair[0], 1.0))\n",
    "\n",
    "# Perform 10 iterations of PageRank\n",
    "for _ in range(10):\n",
    "    # Compute contributions of each node to its neighbors\n",
    "    contributions = links.join(ranks).flatMap(lambda pair: [(dest, pair[1][1] / len(pair[1][0])) for dest in pair[1][0]])\n",
    "\n",
    "    # Aggregate contributions to compute new ranks\n",
    "    ranks = contributions.reduceByKey(lambda a, b: a + b).mapValues(lambda rank: 0.15 + 0.85 * rank)\n",
    "\n",
    "# Collect the final ranks\n",
    "final_ranks = ranks.collect()\n",
    "print(final_ranks)"
   ]
  }
 ],
 "metadata": {
  "kernelspec": {
   "display_name": "Python 3 (ipykernel)",
   "language": "python",
   "name": "python3"
  },
  "language_info": {
   "codemirror_mode": {
    "name": "ipython",
    "version": 3
   },
   "file_extension": ".py",
   "mimetype": "text/x-python",
   "name": "python",
   "nbconvert_exporter": "python",
   "pygments_lexer": "ipython3",
   "version": "3.7.7"
  },
  "vscode": {
   "interpreter": {
    "hash": "23393d2575091a37cff0d0e9e7479591a295495b26c3b2ebf9b64da572e02d85"
   }
  }
 },
 "nbformat": 4,
 "nbformat_minor": 4
}
