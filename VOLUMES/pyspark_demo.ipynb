{
 "cells": [
  {
   "cell_type": "markdown",
   "metadata": {
    "jp-MarkdownHeadingCollapsed": true
   },
   "source": [
    "### Pip Install, Init, and Start Pyspark"
   ]
  },
  {
   "cell_type": "code",
   "execution_count": 1,
   "metadata": {},
   "outputs": [
    {
     "name": "stdout",
     "output_type": "stream",
     "text": [
      "Collecting kaggle\n",
      "  Downloading kaggle-1.6.12.tar.gz (79 kB)\n",
      "\u001b[2K     \u001b[90m━━━━━━━━━━━━━━━━━━━━━━━━━━━━━━━━━━━━━━━\u001b[0m \u001b[32m79.7/79.7 kB\u001b[0m \u001b[31m955.9 kB/s\u001b[0m eta \u001b[36m0:00:00\u001b[0ma \u001b[36m0:00:01\u001b[0m\n",
      "\u001b[?25h  Preparing metadata (setup.py) ... \u001b[?25ldone\n",
      "\u001b[?25hRequirement already satisfied: six>=1.10 in /opt/venv/lib/python3.10/site-packages (from kaggle) (1.16.0)\n",
      "Requirement already satisfied: certifi>=2023.7.22 in /opt/venv/lib/python3.10/site-packages (from kaggle) (2024.2.2)\n",
      "Requirement already satisfied: python-dateutil in /opt/venv/lib/python3.10/site-packages (from kaggle) (2.9.0.post0)\n",
      "Requirement already satisfied: requests in /opt/venv/lib/python3.10/site-packages (from kaggle) (2.31.0)\n",
      "Collecting tqdm\n",
      "  Downloading tqdm-4.66.2-py3-none-any.whl (78 kB)\n",
      "\u001b[2K     \u001b[90m━━━━━━━━━━━━━━━━━━━━━━━━━━━━━━━━━━━━━━━━\u001b[0m \u001b[32m78.3/78.3 kB\u001b[0m \u001b[31m24.9 MB/s\u001b[0m eta \u001b[36m0:00:00\u001b[0m\n",
      "\u001b[?25hCollecting python-slugify\n",
      "  Downloading python_slugify-8.0.4-py2.py3-none-any.whl (10 kB)\n",
      "Requirement already satisfied: urllib3 in /opt/venv/lib/python3.10/site-packages (from kaggle) (2.2.1)\n",
      "Requirement already satisfied: bleach in /opt/venv/lib/python3.10/site-packages (from kaggle) (6.1.0)\n",
      "Requirement already satisfied: webencodings in /opt/venv/lib/python3.10/site-packages (from bleach->kaggle) (0.5.1)\n",
      "Collecting text-unidecode>=1.3\n",
      "  Downloading text_unidecode-1.3-py2.py3-none-any.whl (78 kB)\n",
      "\u001b[2K     \u001b[90m━━━━━━━━━━━━━━━━━━━━━━━━━━━━━━━━━━━━━━━━\u001b[0m \u001b[32m78.2/78.2 kB\u001b[0m \u001b[31m1.8 MB/s\u001b[0m eta \u001b[36m0:00:00\u001b[0ma \u001b[36m0:00:01\u001b[0m\n",
      "\u001b[?25hRequirement already satisfied: charset-normalizer<4,>=2 in /opt/venv/lib/python3.10/site-packages (from requests->kaggle) (3.3.2)\n",
      "Requirement already satisfied: idna<4,>=2.5 in /opt/venv/lib/python3.10/site-packages (from requests->kaggle) (3.7)\n",
      "Installing collected packages: text-unidecode, tqdm, python-slugify, kaggle\n",
      "\u001b[33m  DEPRECATION: kaggle is being installed using the legacy 'setup.py install' method, because it does not have a 'pyproject.toml' and the 'wheel' package is not installed. pip 23.1 will enforce this behaviour change. A possible replacement is to enable the '--use-pep517' option. Discussion can be found at https://github.com/pypa/pip/issues/8559\u001b[0m\u001b[33m\n",
      "\u001b[0m  Running setup.py install for kaggle ... \u001b[?25ldone\n",
      "\u001b[?25hSuccessfully installed kaggle-1.6.12 python-slugify-8.0.4 text-unidecode-1.3 tqdm-4.66.2\n",
      "\n",
      "\u001b[1m[\u001b[0m\u001b[34;49mnotice\u001b[0m\u001b[1;39;49m]\u001b[0m\u001b[39;49m A new release of pip is available: \u001b[0m\u001b[31;49m23.0.1\u001b[0m\u001b[39;49m -> \u001b[0m\u001b[32;49m24.0\u001b[0m\n",
      "\u001b[1m[\u001b[0m\u001b[34;49mnotice\u001b[0m\u001b[1;39;49m]\u001b[0m\u001b[39;49m To update, run: \u001b[0m\u001b[32;49mpip install --upgrade pip\u001b[0m\n",
      "Collecting pandas\n",
      "  Downloading pandas-2.2.2-cp310-cp310-manylinux_2_17_aarch64.manylinux2014_aarch64.whl (15.6 MB)\n",
      "\u001b[2K     \u001b[90m━━━━━━━━━━━━━━━━━━━━━━━━━━━━━━━━━━━━━━━━\u001b[0m \u001b[32m15.6/15.6 MB\u001b[0m \u001b[31m7.3 MB/s\u001b[0m eta \u001b[36m0:00:00\u001b[0m00:01\u001b[0m00:01\u001b[0m\n",
      "\u001b[?25hCollecting numpy>=1.22.4\n",
      "  Downloading numpy-1.26.4-cp310-cp310-manylinux_2_17_aarch64.manylinux2014_aarch64.whl (14.2 MB)\n",
      "\u001b[2K     \u001b[90m━━━━━━━━━━━━━━━━━━━━━━━━━━━━━━━━━━━━━━━━\u001b[0m \u001b[32m14.2/14.2 MB\u001b[0m \u001b[31m14.3 MB/s\u001b[0m eta \u001b[36m0:00:00\u001b[0m00:01\u001b[0m00:01\u001b[0m\n",
      "\u001b[?25hCollecting tzdata>=2022.7\n",
      "  Downloading tzdata-2024.1-py2.py3-none-any.whl (345 kB)\n",
      "\u001b[2K     \u001b[90m━━━━━━━━━━━━━━━━━━━━━━━━━━━━━━━━━━━━━━\u001b[0m \u001b[32m345.4/345.4 kB\u001b[0m \u001b[31m21.1 MB/s\u001b[0m eta \u001b[36m0:00:00\u001b[0m\n",
      "\u001b[?25hCollecting pytz>=2020.1\n",
      "  Downloading pytz-2024.1-py2.py3-none-any.whl (505 kB)\n",
      "\u001b[2K     \u001b[90m━━━━━━━━━━━━━━━━━━━━━━━━━━━━━━━━━━━━━━\u001b[0m \u001b[32m505.5/505.5 kB\u001b[0m \u001b[31m17.2 MB/s\u001b[0m eta \u001b[36m0:00:00\u001b[0m\n",
      "\u001b[?25hRequirement already satisfied: python-dateutil>=2.8.2 in /opt/venv/lib/python3.10/site-packages (from pandas) (2.9.0.post0)\n",
      "Requirement already satisfied: six>=1.5 in /opt/venv/lib/python3.10/site-packages (from python-dateutil>=2.8.2->pandas) (1.16.0)\n",
      "Installing collected packages: pytz, tzdata, numpy, pandas\n",
      "Successfully installed numpy-1.26.4 pandas-2.2.2 pytz-2024.1 tzdata-2024.1\n",
      "\n",
      "\u001b[1m[\u001b[0m\u001b[34;49mnotice\u001b[0m\u001b[1;39;49m]\u001b[0m\u001b[39;49m A new release of pip is available: \u001b[0m\u001b[31;49m23.0.1\u001b[0m\u001b[39;49m -> \u001b[0m\u001b[32;49m24.0\u001b[0m\n",
      "\u001b[1m[\u001b[0m\u001b[34;49mnotice\u001b[0m\u001b[1;39;49m]\u001b[0m\u001b[39;49m To update, run: \u001b[0m\u001b[32;49mpip install --upgrade pip\u001b[0m\n",
      "Collecting seaborn\n",
      "  Downloading seaborn-0.13.2-py3-none-any.whl (294 kB)\n",
      "\u001b[2K     \u001b[90m━━━━━━━━━━━━━━━━━━━━━━━━━━━━━━━━━━━━━━━\u001b[0m \u001b[32m294.9/294.9 kB\u001b[0m \u001b[31m1.3 MB/s\u001b[0m eta \u001b[36m0:00:00\u001b[0ma \u001b[36m0:00:01\u001b[0m\n",
      "\u001b[?25hCollecting matplotlib!=3.6.1,>=3.4\n",
      "  Downloading matplotlib-3.8.4-cp310-cp310-manylinux_2_17_aarch64.manylinux2014_aarch64.whl (11.4 MB)\n",
      "\u001b[2K     \u001b[90m━━━━━━━━━━━━━━━━━━━━━━━━━━━━━━━━━━━━━━━━\u001b[0m \u001b[32m11.4/11.4 MB\u001b[0m \u001b[31m7.3 MB/s\u001b[0m eta \u001b[36m0:00:00\u001b[0m00:01\u001b[0m00:01\u001b[0mm\n",
      "\u001b[?25hRequirement already satisfied: numpy!=1.24.0,>=1.20 in /opt/venv/lib/python3.10/site-packages (from seaborn) (1.26.4)\n",
      "Requirement already satisfied: pandas>=1.2 in /opt/venv/lib/python3.10/site-packages (from seaborn) (2.2.2)\n",
      "Requirement already satisfied: python-dateutil>=2.7 in /opt/venv/lib/python3.10/site-packages (from matplotlib!=3.6.1,>=3.4->seaborn) (2.9.0.post0)\n",
      "Collecting kiwisolver>=1.3.1\n",
      "  Downloading kiwisolver-1.4.5-cp310-cp310-manylinux_2_17_aarch64.manylinux2014_aarch64.whl (1.4 MB)\n",
      "\u001b[2K     \u001b[90m━━━━━━━━━━━━━━━━━━━━━━━━━━━━━━━━━━━━━━━━\u001b[0m \u001b[32m1.4/1.4 MB\u001b[0m \u001b[31m13.0 MB/s\u001b[0m eta \u001b[36m0:00:00\u001b[0m00:01\u001b[0m0:01\u001b[0m\n",
      "\u001b[?25hCollecting pyparsing>=2.3.1\n",
      "  Downloading pyparsing-3.1.2-py3-none-any.whl (103 kB)\n",
      "\u001b[2K     \u001b[90m━━━━━━━━━━━━━━━━━━━━━━━━━━━━━━━━━━━━━━\u001b[0m \u001b[32m103.2/103.2 kB\u001b[0m \u001b[31m33.6 MB/s\u001b[0m eta \u001b[36m0:00:00\u001b[0m\n",
      "\u001b[?25hRequirement already satisfied: packaging>=20.0 in /opt/venv/lib/python3.10/site-packages (from matplotlib!=3.6.1,>=3.4->seaborn) (24.0)\n",
      "Collecting cycler>=0.10\n",
      "  Downloading cycler-0.12.1-py3-none-any.whl (8.3 kB)\n",
      "Collecting contourpy>=1.0.1\n",
      "  Downloading contourpy-1.2.1-cp310-cp310-manylinux_2_17_aarch64.manylinux2014_aarch64.whl (300 kB)\n",
      "\u001b[2K     \u001b[90m━━━━━━━━━━━━━━━━━━━━━━━━━━━━━━━━━━━━━━\u001b[0m \u001b[32m300.8/300.8 kB\u001b[0m \u001b[31m49.2 MB/s\u001b[0m eta \u001b[36m0:00:00\u001b[0m\n",
      "\u001b[?25hCollecting fonttools>=4.22.0\n",
      "  Downloading fonttools-4.51.0-cp310-cp310-manylinux_2_17_aarch64.manylinux2014_aarch64.whl (4.5 MB)\n",
      "\u001b[2K     \u001b[90m━━━━━━━━━━━━━━━━━━━━━━━━━━━━━━━━━━━━━━━━\u001b[0m \u001b[32m4.5/4.5 MB\u001b[0m \u001b[31m8.5 MB/s\u001b[0m eta \u001b[36m0:00:00\u001b[0ma \u001b[36m0:00:01\u001b[0mm\n",
      "\u001b[?25hCollecting pillow>=8\n",
      "  Downloading pillow-10.3.0-cp310-cp310-manylinux_2_28_aarch64.whl (4.3 MB)\n",
      "\u001b[2K     \u001b[90m━━━━━━━━━━━━━━━━━━━━━━━━━━━━━━━━━━━━━━━━\u001b[0m \u001b[32m4.3/4.3 MB\u001b[0m \u001b[31m8.8 MB/s\u001b[0m eta \u001b[36m0:00:00\u001b[0m00:01\u001b[0mm00:01\u001b[0m\n",
      "\u001b[?25hRequirement already satisfied: tzdata>=2022.7 in /opt/venv/lib/python3.10/site-packages (from pandas>=1.2->seaborn) (2024.1)\n",
      "Requirement already satisfied: pytz>=2020.1 in /opt/venv/lib/python3.10/site-packages (from pandas>=1.2->seaborn) (2024.1)\n",
      "Requirement already satisfied: six>=1.5 in /opt/venv/lib/python3.10/site-packages (from python-dateutil>=2.7->matplotlib!=3.6.1,>=3.4->seaborn) (1.16.0)\n",
      "Installing collected packages: pyparsing, pillow, kiwisolver, fonttools, cycler, contourpy, matplotlib, seaborn\n",
      "Successfully installed contourpy-1.2.1 cycler-0.12.1 fonttools-4.51.0 kiwisolver-1.4.5 matplotlib-3.8.4 pillow-10.3.0 pyparsing-3.1.2 seaborn-0.13.2\n",
      "\n",
      "\u001b[1m[\u001b[0m\u001b[34;49mnotice\u001b[0m\u001b[1;39;49m]\u001b[0m\u001b[39;49m A new release of pip is available: \u001b[0m\u001b[31;49m23.0.1\u001b[0m\u001b[39;49m -> \u001b[0m\u001b[32;49m24.0\u001b[0m\n",
      "\u001b[1m[\u001b[0m\u001b[34;49mnotice\u001b[0m\u001b[1;39;49m]\u001b[0m\u001b[39;49m To update, run: \u001b[0m\u001b[32;49mpip install --upgrade pip\u001b[0m\n"
     ]
    }
   ],
   "source": [
    "!pip install kaggle\n",
    "!pip install pandas\n",
    "!pip install seaborn"
   ]
  },
  {
   "cell_type": "code",
   "execution_count": 2,
   "metadata": {},
   "outputs": [],
   "source": [
    "from pyspark.sql import SparkSession\n",
    "from pathlib import Path\n",
    "from pyspark.sql.functions import broadcast\n",
    "from pyspark.sql.functions import col\n",
    "import seaborn as sns"
   ]
  },
  {
   "cell_type": "code",
   "execution_count": 3,
   "metadata": {},
   "outputs": [
    {
     "name": "stderr",
     "output_type": "stream",
     "text": [
      "Setting default log level to \"WARN\".\n",
      "To adjust logging level use sc.setLogLevel(newLevel). For SparkR, use setLogLevel(newLevel).\n",
      "24/05/02 15:49:54 WARN NativeCodeLoader: Unable to load native-hadoop library for your platform... using builtin-java classes where applicable\n"
     ]
    }
   ],
   "source": [
    "spark = SparkSession.builder.master(\"local[*]\").getOrCreate()\n",
    "sc = spark.sparkContext"
   ]
  },
  {
   "cell_type": "code",
   "execution_count": 4,
   "metadata": {},
   "outputs": [
    {
     "name": "stdout",
     "output_type": "stream",
     "text": [
      "3\n",
      "None\n"
     ]
    }
   ],
   "source": [
    "# Get the number of cores\n",
    "num_cores = sc.defaultParallelism\n",
    "\n",
    "# Get the number of executors\n",
    "num_executors = sc.getConf().get(\"spark.executor.instances\")\n",
    "\n",
    "print(num_cores)\n",
    "print(num_executors)"
   ]
  },
  {
   "cell_type": "code",
   "execution_count": 5,
   "metadata": {},
   "outputs": [
    {
     "data": {
      "text/html": [
       "<style>pre { white-space: pre !important; }</style>"
      ],
      "text/plain": [
       "<IPython.core.display.HTML object>"
      ]
     },
     "metadata": {},
     "output_type": "display_data"
    }
   ],
   "source": [
    "from IPython.core.display import HTML\n",
    "display(HTML(\"<style>pre { white-space: pre !important; }</style>\"))"
   ]
  },
  {
   "cell_type": "markdown",
   "metadata": {
    "jp-MarkdownHeadingCollapsed": true
   },
   "source": [
    "### Import Data "
   ]
  },
  {
   "cell_type": "code",
   "execution_count": 6,
   "metadata": {},
   "outputs": [],
   "source": [
    "### Uncomment and run these three lines if you haven't downloaded the dataset\n",
    "# !kaggle datasets download -d guillemservera/global-daily-climate-data\n",
    "# !unzip global-daily-climate-data.zip\n",
    "# !rm global-daily-climate-data.zip"
   ]
  },
  {
   "cell_type": "code",
   "execution_count": 7,
   "metadata": {},
   "outputs": [
    {
     "name": "stderr",
     "output_type": "stream",
     "text": [
      "                                                                                \r"
     ]
    },
    {
     "name": "stdout",
     "output_type": "stream",
     "text": [
      "+-----+---+----------+\n",
      "| Name| ID|Profession|\n",
      "+-----+---+----------+\n",
      "|Alice|  1|  Engineer|\n",
      "|  Bob|  2|    Doctor|\n",
      "+-----+---+----------+\n",
      "\n"
     ]
    }
   ],
   "source": [
    "# Create DataFrames\n",
    "data1 = [(\"Alice\", 1), (\"Bob\", 2), (\"Charlie\", 3)]\n",
    "data2 = [(\"Alice\", \"Engineer\"), (\"Bob\", \"Doctor\"), (\"David\", \"Lawyer\")]\n",
    "df1 = spark.createDataFrame(data1, [\"Name\", \"ID\"])\n",
    "df2 = spark.createDataFrame(data2, [\"Name\", \"Profession\"])\n",
    "\n",
    "# Join DataFrames\n",
    "joined_df = df1.join(df2, \"Name\")\n",
    "\n",
    "# Show the result\n",
    "joined_df.show()"
   ]
  },
  {
   "cell_type": "code",
   "execution_count": 8,
   "metadata": {},
   "outputs": [],
   "source": [
    "# A broadcast join is useful when one DataFrame (typically smaller) can fit entirely into \n",
    "# memory on each executor node, allowing it to be efficiently broadcasted to all executor nodes for join operations. Here's an example using a broadcast join in PySpark:\n",
    "\n",
    "# Two DataFrames (employees_df and departments_df) are created from dummy data.\n",
    "# We perform a broadcast join using the join method on the employees_df. The broadcast function is applied to the departments_df DataFrame, indicating that it should be broadcasted to all executor nodes.\n",
    "# The join operation is performed based on the \"dept_id\" column, and the result is stored in the DataFrame broadcast_df.\n",
    "# Finally, we show the result of the join operation."
   ]
  },
  {
   "cell_type": "code",
   "execution_count": 9,
   "metadata": {},
   "outputs": [
    {
     "name": "stdout",
     "output_type": "stream",
     "text": [
      "+-------+-------+-----------+\n",
      "|dept_id|   name|  dept_name|\n",
      "+-------+-------+-----------+\n",
      "|      1|  Alice|         HR|\n",
      "|      2|    Bob|Engineering|\n",
      "|      1|Charlie|         HR|\n",
      "|      3|  David|    Finance|\n",
      "+-------+-------+-----------+\n",
      "\n"
     ]
    }
   ],
   "source": [
    "# Dummy data for employees and their departments\n",
    "employees_data = [(\"Alice\", 1), (\"Bob\", 2), (\"Charlie\", 1), (\"David\", 3)]\n",
    "departments_data = [(1, \"HR\"), (2, \"Engineering\"), (3, \"Finance\")]\n",
    "\n",
    "# Create DataFrames from the dummy data\n",
    "employees_df = spark.createDataFrame(employees_data, [\"name\", \"dept_id\"])\n",
    "departments_df = spark.createDataFrame(departments_data, [\"dept_id\", \"dept_name\"])\n",
    "\n",
    "# Perform broadcast join\n",
    "broadcast_join_df = employees_df.join(broadcast(departments_df),\n",
    "    on=\"dept_id\",\n",
    "    how=\"inner\")\n",
    "\n",
    "# Show the result\n",
    "broadcast_join_df.show()"
   ]
  },
  {
   "cell_type": "code",
   "execution_count": 10,
   "metadata": {},
   "outputs": [],
   "source": [
    "# In a shuffle hash join, both DataFrames are partitioned based on the join key, \n",
    "# and then shuffled across the network so that rows with the same join key end up in the same partition. This allows Spark to efficiently join the corresponding rows from both DataFrames.\n",
    "\n",
    "# Two DataFrames (employees_df and departments_df) are created from dummy data.\n",
    "# We perform a shuffle hash join using the join method on the employees_df. The join operation is performed based on the \"dept_id\" column, and we specify how=\"inner\" to perform an inner join.\n",
    "# Spark partitions both DataFrames based on the join key (\"dept_id\") and shuffles the data across the network so that rows with the same join key end up in the same partition.\n",
    "# Spark then efficiently joins the corresponding rows from both DataFrames based on the join key.\n",
    "# Finally, we show the result of the join operation.\n",
    "\n",
    "# If a broadcast hash join can be used (by the broadcast hint or by total size of a relation), Spark SQL chooses it over other joins (see JoinSelection execution planning strategy).\n",
    "\n",
    "# Shuffle Hash Join:\n",
    "\n",
    "# Size of Datasets: Shuffle hash joins are typically more efficient when one or both of the datasets being joined are small enough to fit entirely in memory on each executor node. If one dataset is small enough to be broadcasted, a shuffle hash join can be more efficient.\n",
    "# Data Distribution: Shuffle hash joins work well when the data is evenly distributed across partitions and the join keys have high cardinality. In this case, the shuffle operation redistributes the data across partitions based on the hash of the join key, which can lead to more balanced partition sizes.\n",
    "# Memory Usage: Shuffle hash joins are less memory-intensive compared to sort merge joins, as they don't require sorting of data. This can be advantageous when memory resources are limited.\n",
    "# Sort Merge Join:\n",
    "\n",
    "# Size of Datasets: Sort merge joins are generally more suitable for joining large datasets that cannot fit entirely in memory on each executor node. They involve sorting the data, which can be memory-intensive, but they can handle larger datasets more efficiently than shuffle hash joins in many cases.\n",
    "# Data Distribution: Sort merge joins can handle skewed data distributions and low cardinality join keys more effectively than shuffle hash joins. They don't rely on hashing and shuffling data across partitions, so they can handle data skewness without causing performance issues.\n",
    "# Memory Usage: Sort merge joins are more memory-intensive compared to shuffle hash joins because they involve sorting large datasets. They may require more memory resources, so it's important to ensure that sufficient memory is available on the cluster.\n"
   ]
  },
  {
   "cell_type": "code",
   "execution_count": 11,
   "metadata": {},
   "outputs": [
    {
     "name": "stdout",
     "output_type": "stream",
     "text": [
      "+-------+-------+-----------+\n",
      "|dept_id|   name|  dept_name|\n",
      "+-------+-------+-----------+\n",
      "|      1|  Alice|         HR|\n",
      "|      2|    Bob|Engineering|\n",
      "|      1|Charlie|         HR|\n",
      "|      3|  David|    Finance|\n",
      "+-------+-------+-----------+\n",
      "\n"
     ]
    }
   ],
   "source": [
    "spark.conf.set(\"spark.sql.join.preferSortMergeJoin\", \"false\")\n",
    "\n",
    "# Dummy data for employees and their departments\n",
    "employees_data = [(\"Alice\", 1), (\"Bob\", 2), (\"Charlie\", 1), (\"David\", 3)]\n",
    "departments_data = [(1, \"HR\"), (2, \"Engineering\"), (3, \"Finance\")]\n",
    "\n",
    "# Create DataFrames from the dummy data\n",
    "employees_df = spark.createDataFrame(employees_data, [\"name\", \"dept_id\"])\n",
    "departments_df = spark.createDataFrame(departments_data, [\"dept_id\", \"dept_name\"])\n",
    "\n",
    "# Repartition DataFrames based on the join key\n",
    "employees_repartitioned = employees_df.repartition(\"dept_id\")\n",
    "departments_repartitioned = departments_df.repartition(\"dept_id\")\n",
    "\n",
    "# Perform shuffle hash join\n",
    "shuffle_hash_join_df = employees_repartitioned.join(\n",
    "    departments_repartitioned.hint(\"SHUFFLE_HASH\"),\n",
    "    on=\"dept_id\",\n",
    "    how=\"inner\"\n",
    ")\n",
    "\n",
    "# Show the result\n",
    "shuffle_hash_join_df.show()"
   ]
  },
  {
   "cell_type": "code",
   "execution_count": 12,
   "metadata": {},
   "outputs": [],
   "source": [
    "### Sort merge join is typically used when joining large datasets that cannot fit into memory on each executor node. \n",
    "### It efficiently handles large datasets by sorting them and then merging them together based on the join key.\n",
    "\n",
    "# Two DataFrames (employees_df and departments_df) are created from dummy data.\n",
    "# We perform a sort merge join using the join method on the employees_df. The join operation is performed based on the \"dept_id\" column, and we specify how=\"inner\" to perform an inner join.\n",
    "# Spark sorts both DataFrames based on the join key (\"dept_id\") and then merges them together.\n",
    "# Finally, we show the result of the join operation."
   ]
  },
  {
   "cell_type": "code",
   "execution_count": 13,
   "metadata": {},
   "outputs": [
    {
     "name": "stdout",
     "output_type": "stream",
     "text": [
      "+-------+-------+-----------+\n",
      "|dept_id|   name|  dept_name|\n",
      "+-------+-------+-----------+\n",
      "|      1|  Alice|         HR|\n",
      "|      1|Charlie|         HR|\n",
      "|      2|    Bob|Engineering|\n",
      "|      3|  David|    Finance|\n",
      "+-------+-------+-----------+\n",
      "\n"
     ]
    }
   ],
   "source": [
    "spark.conf.set(\"spark.sql.join.preferSortMergeJoin\", \"true\")\n",
    "\n",
    "# Dummy data for employees and their departments\n",
    "employees_data = [(\"Alice\", 1), (\"Bob\", 2), (\"Charlie\", 1), (\"David\", 3)]\n",
    "departments_data = [(1, \"HR\"), (2, \"Engineering\"), (3, \"Finance\")]\n",
    "\n",
    "# Create DataFrames from the dummy data\n",
    "employees_df = spark.createDataFrame(employees_data, [\"name\", \"dept_id\"])\n",
    "departments_df = spark.createDataFrame(departments_data, [\"dept_id\", \"dept_name\"])\n",
    "\n",
    "# Perform sort merge join\n",
    "sort_merge_join_df = employees_df.join(\n",
    "    departments_df,\n",
    "    on=\"dept_id\",\n",
    "    how=\"inner\"\n",
    ")\n",
    "\n",
    "# Show the result\n",
    "sort_merge_join_df.show()"
   ]
  },
  {
   "cell_type": "markdown",
   "metadata": {},
   "source": [
    "#### Create df1"
   ]
  },
  {
   "cell_type": "code",
   "execution_count": 14,
   "metadata": {},
   "outputs": [],
   "source": [
    "# df = spark.read.parquet('daily_weather.parquet')\n",
    "dw_df = spark.read.parquet('*.parquet')"
   ]
  },
  {
   "cell_type": "code",
   "execution_count": 15,
   "metadata": {},
   "outputs": [],
   "source": [
    "### Both of these trigger OOM\n",
    "# dw_df.toPandas().show()\n",
    "# dw_df.collect()"
   ]
  },
  {
   "cell_type": "code",
   "execution_count": 16,
   "metadata": {},
   "outputs": [
    {
     "name": "stderr",
     "output_type": "stream",
     "text": [
      "[Stage 20:=============================>                            (1 + 1) / 2]\r"
     ]
    },
    {
     "name": "stdout",
     "output_type": "stream",
     "text": [
      "-RECORD 0-------------------------------------\n",
      " station_id             | 41515               \n",
      " city_name              | Asadabad            \n",
      " date                   | 1957-07-01 00:00:00 \n",
      " season                 | Summer              \n",
      " avg_temp_c             | 27.0                \n",
      " min_temp_c             | 21.1                \n",
      " max_temp_c             | 35.6                \n",
      " precipitation_mm       | 0.0                 \n",
      " snow_depth_mm          | NULL                \n",
      " avg_wind_dir_deg       | NULL                \n",
      " avg_wind_speed_kmh     | NULL                \n",
      " peak_wind_gust_kmh     | NULL                \n",
      " avg_sea_level_pres_hpa | NULL                \n",
      " sunshine_total_min     | NULL                \n",
      " __index_level_0__      | 0                   \n",
      "only showing top 1 row\n",
      "\n"
     ]
    },
    {
     "name": "stderr",
     "output_type": "stream",
     "text": [
      "                                                                                \r"
     ]
    }
   ],
   "source": [
    "dw_df.show(1, truncate=False, vertical=True)"
   ]
  },
  {
   "cell_type": "code",
   "execution_count": 17,
   "metadata": {},
   "outputs": [],
   "source": [
    "dw_df = dw_df.select(*(col(x).alias(x + '_df1') for x in dw_df.columns))\n"
   ]
  },
  {
   "cell_type": "code",
   "execution_count": 18,
   "metadata": {},
   "outputs": [],
   "source": [
    "dw_df.createOrReplaceTempView(\"dw_df\")"
   ]
  },
  {
   "cell_type": "code",
   "execution_count": 19,
   "metadata": {},
   "outputs": [
    {
     "name": "stderr",
     "output_type": "stream",
     "text": [
      "[Stage 22:=============================>                            (1 + 1) / 2]\r"
     ]
    },
    {
     "name": "stdout",
     "output_type": "stream",
     "text": [
      "+--------------+-------------+-------------------+----------+--------------+--------------+--------------+--------------------+-----------------+--------------------+----------------------+----------------------+--------------------------+----------------------+---------------------+\n",
      "|station_id_df1|city_name_df1|           date_df1|season_df1|avg_temp_c_df1|min_temp_c_df1|max_temp_c_df1|precipitation_mm_df1|snow_depth_mm_df1|avg_wind_dir_deg_df1|avg_wind_speed_kmh_df1|peak_wind_gust_kmh_df1|avg_sea_level_pres_hpa_df1|sunshine_total_min_df1|__index_level_0___df1|\n",
      "+--------------+-------------+-------------------+----------+--------------+--------------+--------------+--------------------+-----------------+--------------------+----------------------+----------------------+--------------------------+----------------------+---------------------+\n",
      "|         41515|     Asadabad|1957-07-01 00:00:00|    Summer|          27.0|          21.1|          35.6|                 0.0|             NULL|                NULL|                  NULL|                  NULL|                      NULL|                  NULL|                    0|\n",
      "|         41515|     Asadabad|1957-07-02 00:00:00|    Summer|          22.8|          18.9|          32.2|                 0.0|             NULL|                NULL|                  NULL|                  NULL|                      NULL|                  NULL|                    1|\n",
      "+--------------+-------------+-------------------+----------+--------------+--------------+--------------+--------------------+-----------------+--------------------+----------------------+----------------------+--------------------------+----------------------+---------------------+\n",
      "\n"
     ]
    },
    {
     "name": "stderr",
     "output_type": "stream",
     "text": [
      "                                                                                \r"
     ]
    }
   ],
   "source": [
    "spark.sql(\"\"\"SELECT * FROM dw_df LIMIT 2\"\"\").show(2)"
   ]
  },
  {
   "cell_type": "markdown",
   "metadata": {},
   "source": [
    "#### Create df2"
   ]
  },
  {
   "cell_type": "code",
   "execution_count": 20,
   "metadata": {},
   "outputs": [],
   "source": [
    "cities_df = spark.read.csv('cities.csv', inferSchema=True, header=True)\n",
    "cities_df = cities_df.select(*(col(x).alias(x + '_df2') for x in cities_df.columns))\n",
    "cities_df.createOrReplaceTempView(\"cities_df\")"
   ]
  },
  {
   "cell_type": "code",
   "execution_count": 21,
   "metadata": {},
   "outputs": [
    {
     "name": "stdout",
     "output_type": "stream",
     "text": [
      "+--------------+-------------+-----------+----------+--------+--------+-------------+-------------+\n",
      "|station_id_df2|city_name_df2|country_df2| state_df2|iso2_df2|iso3_df2| latitude_df2|longitude_df2|\n",
      "+--------------+-------------+-----------+----------+--------+--------+-------------+-------------+\n",
      "|         41515|     Asadabad|Afghanistan|     Kunar|      AF|     AFG|34.8660000397|71.1500045859|\n",
      "|         38954|     Fayzabad|Afghanistan|Badakhshan|      AF|     AFG|37.1297607616|70.5792471913|\n",
      "+--------------+-------------+-----------+----------+--------+--------+-------------+-------------+\n",
      "\n"
     ]
    }
   ],
   "source": [
    "spark.sql(\"\"\"SELECT * FROM cities_df LIMIT 2\"\"\").show(2)"
   ]
  },
  {
   "cell_type": "code",
   "execution_count": 22,
   "metadata": {},
   "outputs": [
    {
     "name": "stdout",
     "output_type": "stream",
     "text": [
      "+--------------+------------------+-----------+------------------+--------+--------+-------------+--------------+\n",
      "|station_id_df2|     city_name_df2|country_df2|         state_df2|iso2_df2|iso3_df2| latitude_df2| longitude_df2|\n",
      "+--------------+------------------+-----------+------------------+--------+--------+-------------+--------------+\n",
      "|         41515|          Asadabad|Afghanistan|             Kunar|      AF|     AFG|34.8660000397| 71.1500045859|\n",
      "|         38954|          Fayzabad|Afghanistan|        Badakhshan|      AF|     AFG|37.1297607616| 70.5792471913|\n",
      "|         41560|         Jalalabad|Afghanistan|         Nangarhar|      AF|     AFG|34.4415269155| 70.4361034738|\n",
      "|         38947|            Kunduz|Afghanistan|            Kunduz|      AF|     AFG|36.7279506623| 68.8725296619|\n",
      "|         38987|        Qala i Naw|Afghanistan|           Badghis|      AF|     AFG| 34.983000131| 63.1332996367|\n",
      "|         38915|        Sheberghan|Afghanistan|           Jawzjan|      AF|     AFG|36.6579807729|  65.738302367|\n",
      "|         13577|          Peshkopi|    Albania|             Dibër|      AL|     ALB|41.6833020982| 20.4333034879|\n",
      "|         13461|           Shkodër|    Albania|           Shkodër|      AL|     ALB|42.0684515575| 19.5188496487|\n",
      "|         13615|            Tirana|    Albania|            Durrës|      AL|     ALB|41.3275407095| 19.8188830146|\n",
      "|         60620|             Adrar|    Algeria|             Adrar|      DZ|     DZA|27.8699900503|-0.28996708312|\n",
      "|         60369|           Algiers|    Algeria|             Alger|      DZ|     DZA| 36.763064798| 3.05055252952|\n",
      "|         60360|            Annaba|    Algeria|            Annaba|      DZ|     DZA|36.9200061229| 7.75998083358|\n",
      "|         60468|             Batna|    Algeria|             Batna|      DZ|     DZA|35.5699593293| 6.17000036482|\n",
      "|         60525|            Biskra|    Algeria|            Biskra|      DZ|     DZA| 34.859976826| 5.73002722029|\n",
      "|         60444|Bordj Bou Arréridj|    Algeria|Bordj Bou Arreridj|      DZ|     DZA|36.0590040083| 4.62999646641|\n",
      "|         60571|            Béchar|    Algeria|            Béchar|      DZ|     DZA| 31.611105366|-2.23000370422|\n",
      "|         60402|            Béjaïa|    Algeria|            Béjaïa|      DZ|     DZA|36.7603776235| 5.07001582706|\n",
      "|         60419|       Constantine|    Algeria|       Constantine|      DZ|     DZA|36.3599886261| 6.59994828149|\n",
      "|         60535|            Djelfa|    Algeria|            Djelfa|      DZ|     DZA|34.6799878123| 3.25002355817|\n",
      "|         60403|            Guelma|    Algeria|            Guelma|      DZ|     DZA| 36.466002132| 7.42799748595|\n",
      "+--------------+------------------+-----------+------------------+--------+--------+-------------+--------------+\n",
      "only showing top 20 rows\n",
      "\n"
     ]
    }
   ],
   "source": [
    "cities_df.show()"
   ]
  },
  {
   "cell_type": "markdown",
   "metadata": {
    "jp-MarkdownHeadingCollapsed": true
   },
   "source": [
    "### Combine the df's"
   ]
  },
  {
   "cell_type": "code",
   "execution_count": 23,
   "metadata": {},
   "outputs": [],
   "source": [
    "j_df = dw_df.join(cities_df, col('city_name_df1') == col('city_name_df2'))"
   ]
  },
  {
   "cell_type": "code",
   "execution_count": 24,
   "metadata": {},
   "outputs": [
    {
     "name": "stderr",
     "output_type": "stream",
     "text": [
      "[Stage 29:=============================>                            (1 + 1) / 2]\r"
     ]
    },
    {
     "name": "stdout",
     "output_type": "stream",
     "text": [
      "+--------------+-------------+-------------------+----------+--------------+--------------+--------------+--------------------+-----------------+--------------------+----------------------+----------------------+--------------------------+----------------------+---------------------+--------------+-------------+-----------+---------+--------+--------+-------------+-------------+\n",
      "|station_id_df1|city_name_df1|           date_df1|season_df1|avg_temp_c_df1|min_temp_c_df1|max_temp_c_df1|precipitation_mm_df1|snow_depth_mm_df1|avg_wind_dir_deg_df1|avg_wind_speed_kmh_df1|peak_wind_gust_kmh_df1|avg_sea_level_pres_hpa_df1|sunshine_total_min_df1|__index_level_0___df1|station_id_df2|city_name_df2|country_df2|state_df2|iso2_df2|iso3_df2| latitude_df2|longitude_df2|\n",
      "+--------------+-------------+-------------------+----------+--------------+--------------+--------------+--------------------+-----------------+--------------------+----------------------+----------------------+--------------------------+----------------------+---------------------+--------------+-------------+-----------+---------+--------+--------+-------------+-------------+\n",
      "|         41515|     Asadabad|1957-07-01 00:00:00|    Summer|          27.0|          21.1|          35.6|                 0.0|             NULL|                NULL|                  NULL|                  NULL|                      NULL|                  NULL|                    0|         41515|     Asadabad|Afghanistan|    Kunar|      AF|     AFG|34.8660000397|71.1500045859|\n",
      "|         41515|     Asadabad|1957-07-02 00:00:00|    Summer|          22.8|          18.9|          32.2|                 0.0|             NULL|                NULL|                  NULL|                  NULL|                      NULL|                  NULL|                    1|         41515|     Asadabad|Afghanistan|    Kunar|      AF|     AFG|34.8660000397|71.1500045859|\n",
      "+--------------+-------------+-------------------+----------+--------------+--------------+--------------+--------------------+-----------------+--------------------+----------------------+----------------------+--------------------------+----------------------+---------------------+--------------+-------------+-----------+---------+--------+--------+-------------+-------------+\n",
      "only showing top 2 rows\n",
      "\n"
     ]
    },
    {
     "name": "stderr",
     "output_type": "stream",
     "text": [
      "                                                                                \r"
     ]
    }
   ],
   "source": [
    "j_df.show(2)"
   ]
  },
  {
   "cell_type": "code",
   "execution_count": 25,
   "metadata": {},
   "outputs": [],
   "source": [
    "j_df.createOrReplaceTempView(\"j_df\")"
   ]
  },
  {
   "cell_type": "code",
   "execution_count": 26,
   "metadata": {},
   "outputs": [
    {
     "data": {
      "text/plain": [
       "9572"
      ]
     },
     "execution_count": 26,
     "metadata": {},
     "output_type": "execute_result"
    }
   ],
   "source": [
    "spark.sql(\"SELECT * FROM j_df WHERE j_df.station_id_df1 =41515\").count()"
   ]
  },
  {
   "cell_type": "markdown",
   "metadata": {},
   "source": [
    "### Plot"
   ]
  },
  {
   "cell_type": "code",
   "execution_count": 27,
   "metadata": {},
   "outputs": [
    {
     "name": "stderr",
     "output_type": "stream",
     "text": [
      "                                                                                \r"
     ]
    }
   ],
   "source": [
    "asadabad_df = spark.sql(\"SELECT * FROM j_df WHERE j_df.station_id_df1 =41515\").toPandas() # Convert PySpark DataFrame to Pandas DataFrame"
   ]
  },
  {
   "cell_type": "code",
   "execution_count": 28,
   "metadata": {},
   "outputs": [
    {
     "data": {
      "text/plain": [
       "Index(['station_id_df1', 'city_name_df1', 'date_df1', 'season_df1',\n",
       "       'avg_temp_c_df1', 'min_temp_c_df1', 'max_temp_c_df1',\n",
       "       'precipitation_mm_df1', 'snow_depth_mm_df1', 'avg_wind_dir_deg_df1',\n",
       "       'avg_wind_speed_kmh_df1', 'peak_wind_gust_kmh_df1',\n",
       "       'avg_sea_level_pres_hpa_df1', 'sunshine_total_min_df1',\n",
       "       '__index_level_0___df1', 'station_id_df2', 'city_name_df2',\n",
       "       'country_df2', 'state_df2', 'iso2_df2', 'iso3_df2', 'latitude_df2',\n",
       "       'longitude_df2'],\n",
       "      dtype='object')"
      ]
     },
     "execution_count": 28,
     "metadata": {},
     "output_type": "execute_result"
    }
   ],
   "source": [
    "asadabad_df.columns"
   ]
  },
  {
   "cell_type": "code",
   "execution_count": 29,
   "metadata": {},
   "outputs": [
    {
     "data": {
      "text/plain": [
       "<Axes: xlabel='date_df1', ylabel='avg_temp_c_df1'>"
      ]
     },
     "execution_count": 29,
     "metadata": {},
     "output_type": "execute_result"
    },
    {
     "data": {
      "image/png": "[encoded data removed]",
      "text/plain": [
       "<Figure size 640x480 with 1 Axes>"
      ]
     },
     "metadata": {},
     "output_type": "display_data"
    }
   ],
   "source": [
    "sns.lineplot(data=asadabad_df, x=\"date_df1\", y=\"avg_temp_c_df1\")"
   ]
  }
 ],
 "metadata": {
  "kernelspec": {
   "display_name": "Python 3 (ipykernel)",
   "language": "python",
   "name": "python3"
  },
  "language_info": {
   "codemirror_mode": {
    "name": "ipython",
    "version": 3
   },
   "file_extension": ".py",
   "mimetype": "text/x-python",
   "name": "python",
   "nbconvert_exporter": "python",
   "pygments_lexer": "ipython3",
   "version": "3.10.14"
  },
  "vscode": {
   "interpreter": {
    "hash": "23393d2575091a37cff0d0e9e7479591a295495b26c3b2ebf9b64da572e02d85"
   }
  }
 },
 "nbformat": 4,
 "nbformat_minor": 4
}
